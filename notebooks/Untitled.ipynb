{
 "cells": [
  {
   "cell_type": "code",
   "execution_count": 1,
   "id": "ebbd0c15",
   "metadata": {},
   "outputs": [],
   "source": [
    "# import sys\n",
    "# !{sys.executable} -m pip install chess\n",
    "\n",
    "import chess.pgn\n",
    "import random\n",
    "import copy\n",
    "import re"
   ]
  },
  {
   "cell_type": "code",
   "execution_count": 2,
   "id": "fd90ab14",
   "metadata": {},
   "outputs": [],
   "source": [
    "def find_number_moves(moves):\n",
    "    return int(re.findall(\" (\\d+)\\.\", moves)[-1])\n",
    "\n",
    "def get_random_FEN(game):\n",
    "    board = game.board()\n",
    "    \n",
    "    num_moves = find_number_moves(str(game.mainline_moves()))\n",
    "    \n",
    "    rand = random.randrange(1, num_moves)\n",
    "    count = 0\n",
    "\n",
    "    for move in game.mainline_moves():\n",
    "        board.push(move)\n",
    "        count += 1\n",
    "        if count == rand:\n",
    "            break;\n",
    "\n",
    "    return board.fen()"
   ]
  },
  {
   "cell_type": "code",
   "execution_count": 3,
   "id": "6087d1cd",
   "metadata": {},
   "outputs": [
    {
     "data": {
      "text/plain": [
       "'4R3/p1k2p2/2p3p1/3p4/r2P4/8/5PPP/4R1K1 w - - 1 27'"
      ]
     },
     "execution_count": 3,
     "metadata": {},
     "output_type": "execute_result"
    }
   ],
   "source": [
    "pgn = open(\"Lichess_2023_11\")\n",
    "first_game = chess.pgn.read_game(pgn)\n",
    "\n",
    "fen = get_random_FEN(first_game)\n",
    "fen"
   ]
  },
  {
   "cell_type": "code",
   "execution_count": 20,
   "id": "8161eb2d",
   "metadata": {},
   "outputs": [
    {
     "data": {
      "text/plain": [
       "[13, 14, 15, 27]"
      ]
     },
     "execution_count": 20,
     "metadata": {},
     "output_type": "execute_result"
    }
   ],
   "source": [
    "board = chess.Board(fen)\n",
    "list(board.pieces(chess.PAWN, chess.WHITE))"
   ]
  }
 ],
 "metadata": {
  "kernelspec": {
   "display_name": "Python 3 (ipykernel)",
   "language": "python",
   "name": "python3"
  },
  "language_info": {
   "codemirror_mode": {
    "name": "ipython",
    "version": 3
   },
   "file_extension": ".py",
   "mimetype": "text/x-python",
   "name": "python",
   "nbconvert_exporter": "python",
   "pygments_lexer": "ipython3",
   "version": "3.11.5"
  }
 },
 "nbformat": 4,
 "nbformat_minor": 5
}
